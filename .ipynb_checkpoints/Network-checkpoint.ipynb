{
 "cells": [
  {
   "cell_type": "code",
   "execution_count": 13,
   "metadata": {},
   "outputs": [],
   "source": [
    "import torch\n",
    "import torch.nn as nn\n",
    "import torchvision\n",
    "from torchvision import transforms, datasets, models\n",
    "import torch.optim as optim\n",
    "from torch.optim import lr_scheduler\n",
    "import torch.backends.cudnn as cudnn"
   ]
  },
  {
   "cell_type": "code",
   "execution_count": 14,
   "metadata": {},
   "outputs": [],
   "source": [
    "import matplotlib.pyplot as plt\n",
    "import numpy as np\n",
    "import copy\n",
    "import time\n",
    "import os"
   ]
  },
  {
   "cell_type": "code",
   "execution_count": 15,
   "metadata": {},
   "outputs": [],
   "source": [
    "import utils\n",
    "from models import ResNet"
   ]
  },
  {
   "cell_type": "code",
   "execution_count": 16,
   "metadata": {},
   "outputs": [
    {
     "name": "stdout",
     "output_type": "stream",
     "text": [
      "Files already downloaded and verified\n",
      "Files already downloaded and verified\n",
      "Files already downloaded and verified\n"
     ]
    }
   ],
   "source": [
    "data_loaders, test_loader = utils.get_data_loaders(val=False)"
   ]
  },
  {
   "cell_type": "code",
   "execution_count": 17,
   "metadata": {},
   "outputs": [],
   "source": [
    "classes = ('plane', 'car', 'bird', 'cat', 'deer', 'dog', 'frog', 'horse', 'ship', 'truck')"
   ]
  },
  {
   "cell_type": "code",
   "execution_count": 18,
   "metadata": {},
   "outputs": [
    {
     "name": "stdout",
     "output_type": "stream",
     "text": [
      "0\n",
      "<torch.cuda.device object at 0x7f948bfa3668>\n",
      "1\n"
     ]
    }
   ],
   "source": [
    "device = torch.device('cuda' if torch.cuda.is_available() else 'cpu')\n",
    "\n",
    "net = ResNet.ResNet18()\n",
    "#net = ResNet.ResNet50()\n",
    "#net = ResNet.ResNet152()\n",
    "\n",
    "print(torch.cuda.current_device())\n",
    "print(torch.cuda.device(0))\n",
    "print(torch.cuda.device_count())"
   ]
  },
  {
   "cell_type": "code",
   "execution_count": 19,
   "metadata": {},
   "outputs": [
    {
     "name": "stdout",
     "output_type": "stream",
     "text": [
      "Tesla K80\n"
     ]
    }
   ],
   "source": [
    "if torch.cuda.is_available():\n",
    "    print(torch.cuda.get_device_name(0))\n",
    "    net = net.cuda()\n",
    "    net = torch.nn.DataParallel(net)\n",
    "    cudnn.benchmark = True\n",
    "    criterion = nn.CrossEntropyLoss().cuda()\n",
    "else:\n",
    "    print('CPU')\n",
    "    criterion = nn.CrossEntropyLoss()"
   ]
  },
  {
   "cell_type": "code",
   "execution_count": 20,
   "metadata": {},
   "outputs": [],
   "source": [
    "#optimizer = optim.SGD(net.parameters(), lr=0.1, momentum=0.9, weight_decay=5e-4, nesterov=True)\n",
    "optimizer = optim.Adam(net.parameters())\n",
    "#scheduler = lr_scheduler.ReduceLROnPlateau(optimizer, 'min')\n",
    "#scheduler = optim.lr_scheduler.CosineAnnealingLR(optimizer, 32)\n",
    "scheduler = lr_scheduler.MultiStepLR(optimizer, milestones=[81, 122], gamma=0.1)"
   ]
  },
  {
   "cell_type": "code",
   "execution_count": 21,
   "metadata": {},
   "outputs": [],
   "source": [
    "old = False\n",
    "test = True"
   ]
  },
  {
   "cell_type": "markdown",
   "metadata": {},
   "source": [
    "Size of CIFAR-10"
   ]
  },
  {
   "cell_type": "code",
   "execution_count": 22,
   "metadata": {},
   "outputs": [],
   "source": [
    "if test:\n",
    "    dataset_size = {'train':5000, 'test':1000}\n",
    "else:\n",
    "    dataset_size = {'train': 4000,'val': 1000,'test': 1000}"
   ]
  },
  {
   "cell_type": "markdown",
   "metadata": {},
   "source": [
    "Load Trained Model"
   ]
  },
  {
   "cell_type": "code",
   "execution_count": 23,
   "metadata": {},
   "outputs": [],
   "source": [
    "SAVE_PATH = './trained-models/net.pth'\n",
    "\n",
    "if old:\n",
    "    old_epochs = utils.load_checkpoint(net, optimizer, scheduler, SAVE_PATH)"
   ]
  },
  {
   "cell_type": "markdown",
   "metadata": {},
   "source": [
    "Implement SWATS"
   ]
  },
  {
   "cell_type": "code",
   "execution_count": 35,
   "metadata": {},
   "outputs": [],
   "source": [
    "def train_model(model, criterion, optimizer, scheduler, num_epochs=25, test=True):\n",
    "    \n",
    "    best_accuracy = 0.0\n",
    "    \n",
    "    for epoch in range(num_epochs):\n",
    "        \n",
    "        print(str(epoch + 1) + \"/\" + str(num_epochs))\n",
    "        \n",
    "        if type(scheduler) is torch.optim.lr_scheduler.MultiStepLR:\n",
    "            scheduler.step()\n",
    "        \n",
    "        if test:\n",
    "            phases = ['train', 'test']\n",
    "        else:\n",
    "            phases = ['train', 'val']\n",
    "        \n",
    "        for phase in phases:\n",
    "            \n",
    "            print(phase)\n",
    "            \n",
    "            if phase == 'train':\n",
    "                model.train()\n",
    "                \n",
    "            else:\n",
    "                model.eval()\n",
    "            \n",
    "            running_loss = 0.0\n",
    "            running_corrects = 0\n",
    "            total = 0\n",
    "            \n",
    "            start = time.time()\n",
    "            \n",
    "            if phase == 'train' or phase == 'val':\n",
    "                for index, (inputs, targets) in enumerate(data_loaders[phase]):\n",
    "                \n",
    "                    inputs = inputs.to(device)\n",
    "                    targets = targets.to(device)\n",
    "\n",
    "                    optimizer.zero_grad()\n",
    "                \n",
    "                    with torch.set_grad_enabled(phase == 'train'):\n",
    "                        outputs = model(inputs)\n",
    "                        _, preds = outputs.max(1)\n",
    "                        loss = criterion(outputs, targets)\n",
    "                    \n",
    "                        if phase == 'train':\n",
    "                            loss.backward()\n",
    "                            optimizer.step()\n",
    "                        \n",
    "                    running_loss += loss.item()\n",
    "                    running_corrects += preds.eq(targets).sum().item()\n",
    "                    total += targets.size(0)\n",
    "            else:\n",
    "                for index, (inputs, targets) in enumerate(test_loader):\n",
    "                \n",
    "                    inputs = inputs.to(device)\n",
    "                    targets = targets.to(device)\n",
    "                \n",
    "                    outputs = model(inputs)\n",
    "                    _, preds = outputs.max(1)\n",
    "                    loss = criterion(outputs, targets)\n",
    "                    \n",
    "                    running_loss += loss.item()\n",
    "                    running_corrects += preds.eq(targets).sum().item()\n",
    "                    total += targets.size(0)\n",
    "                \n",
    "            epoch_loss = running_loss / total\n",
    "            epoch_acc = running_corrects / total\n",
    "                \n",
    "            print('Loss: ' + str(epoch_loss) + \", Epoch Accuracy: \" + str(epoch_acc))\n",
    "            \n",
    "            print('Time: ' + str((time.time() - start) / 60))\n",
    "            \n",
    "            if phase != 'train' and epoch_acc > best_accuracy:\n",
    "                best_accuracy = epoch_acc\n",
    "                best_model_wts = copy.deepcopy(model.state_dict())\n",
    "                \n",
    "                if not os.path.isdir('trained-models'):\n",
    "                    os.mkdir('trained-models')\n",
    "                \n",
    "                state = {\n",
    "                    \n",
    "                    'epoch': epoch,\n",
    "                    'state_dict': model.state_dict(),\n",
    "                    'optimizer': optimizer.state_dict(),\n",
    "                    'scheduler': scheduler.state_dict()\n",
    "                    \n",
    "                }\n",
    "\n",
    "                if os.path.exists(SAVE_PATH):\n",
    "                    os.remove(SAVE_PATH)\n",
    "                \n",
    "                torch.save(state, SAVE_PATH)\n",
    "    \n",
    "    print('Best Accuracy: ' + str(best_accuracy))\n",
    "    \n",
    "    model.load_state_dict(best_model_wts)\n",
    "    return model"
   ]
  },
  {
   "cell_type": "code",
   "execution_count": 37,
   "metadata": {},
   "outputs": [
    {
     "name": "stdout",
     "output_type": "stream",
     "text": [
      "3\n",
      "1/3\n",
      "train\n",
      "Loss: 0.0057674202016557135, Epoch Accuracy: 0.98186\n",
      "Time: 3.8160754283269247\n",
      "test\n",
      "Loss: 0.0600440838071052, Epoch Accuracy: 0.9281\n",
      "Time: 0.3290539741516113\n",
      "2/3\n",
      "train\n",
      "Loss: 0.005720081186237075, Epoch Accuracy: 0.98178\n",
      "Time: 3.8180610219637554\n",
      "test\n",
      "Loss: 0.05988495913124643, Epoch Accuracy: 0.9273\n",
      "Time: 0.33005776405334475\n",
      "3/3\n",
      "train\n",
      "Loss: 0.005756084284085373, Epoch Accuracy: 0.98266\n",
      "Time: 3.8169201215108237\n",
      "test\n",
      "Loss: 0.05864745150581002, Epoch Accuracy: 0.9261\n",
      "Time: 0.3312794049580892\n",
      "Best Accuracy: 0.9281\n"
     ]
    }
   ],
   "source": [
    "base_epochs = 3\n",
    "\n",
    "if old:\n",
    "    epochs = base_epochs - old_epochs\n",
    "else:\n",
    "    epochs = base_epochs\n",
    "\n",
    "print(epochs)\n",
    "\n",
    "net = train_model(net, criterion, optimizer, scheduler, epochs, test=True)"
   ]
  },
  {
   "cell_type": "code",
   "execution_count": 39,
   "metadata": {},
   "outputs": [
    {
     "name": "stdout",
     "output_type": "stream",
     "text": [
      "1/3\n",
      "train\n",
      "Loss: 0.005801942758474906, Epoch Accuracy: 0.98322\n",
      "Time: 3.8177738189697266\n",
      "test\n",
      "Loss: 0.05979425307633355, Epoch Accuracy: 0.9262\n",
      "Time: 0.3307978828748067\n",
      "2/3\n",
      "train\n",
      "Loss: 0.00575660215022821, Epoch Accuracy: 0.98206\n",
      "Time: 3.820275064309438\n",
      "test\n",
      "Loss: 0.05857356343199499, Epoch Accuracy: 0.927\n",
      "Time: 0.33211567799250286\n",
      "3/3\n",
      "train\n",
      "Loss: 0.005778906250165892, Epoch Accuracy: 0.98292\n",
      "Time: 3.8152034242947894\n",
      "test\n",
      "Loss: 0.0584068417660892, Epoch Accuracy: 0.927\n",
      "Time: 0.32789112329483033\n",
      "Best Accuracy: 0.927\n"
     ]
    }
   ],
   "source": [
    "sgd_epochs = 3\n",
    "utils.load_checkpoint(net, optimizer, scheduler, SAVE_PATH)\n",
    "optimizer = optim.SGD(net.parameters(), lr=0.01, momentum=0.5, weight_decay=5e-4, nesterov=True)\n",
    "net = train_model(net, criterion, optimizer, scheduler, sgd_epochs, test=True)"
   ]
  },
  {
   "cell_type": "code",
   "execution_count": null,
   "metadata": {},
   "outputs": [],
   "source": []
  }
 ],
 "metadata": {
  "kernelspec": {
   "display_name": "Python 3",
   "language": "python",
   "name": "python3"
  },
  "language_info": {
   "codemirror_mode": {
    "name": "ipython",
    "version": 3
   },
   "file_extension": ".py",
   "mimetype": "text/x-python",
   "name": "python",
   "nbconvert_exporter": "python",
   "pygments_lexer": "ipython3",
   "version": "3.6.6"
  }
 },
 "nbformat": 4,
 "nbformat_minor": 2
}
